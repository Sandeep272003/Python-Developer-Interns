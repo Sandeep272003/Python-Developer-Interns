# Import necessary libraries
import pandas as pd
import matplotlib.pyplot as plt

# Load sales data CSV file
# Replace 'sales_data.csv' with your actual CSV file path
df = pd.read_csv('sales_data.csv')

# Display first few rows of the dataset
print("Data Sample:")
print(df.head())

# Basic info about dataframe (columns, types, non-null counts)
print("\nData Info:")
print(df.info())

# Describe numerical columns - gives count, mean, std, min, max, quartiles
print("\nSummary Statistics:")
print(df.describe())

# Group by 'Region' and sum 'Sales'
sales_by_region = df.groupby('Region')['Sales'].sum()
print("\nTotal Sales by Region:")
print(sales_by_region)

# Plot total sales by region as a bar chart
sales_by_region.plot(kind='bar', title='Total Sales by Region', xlabel='Region', ylabel='Total Sales')
plt.show()

# Group by 'Product' and sum 'Sales'
sales_by_product = df.groupby('Product')['Sales'].sum()
print("\nTotal Sales by Product:")
print(sales_by_product)

# Plot total sales by product as a pie chart
sales_by_product.plot(kind='pie', autopct='%1.1f%%', title='Sales Distribution by Product', ylabel='')
plt.show()

# Time series analysis: Convert 'Date' column to datetime if exists
if 'Date' in df.columns:
    df['Date'] = pd.to_datetime(df['Date'])
    sales_over_time = df.groupby('Date')['Sales'].sum()
    print("\nSales Over Time:")
    print(sales_over_time.head())
    
    # Plot sales over time line chart
    sales_over_time.plot(kind='line', title='Sales Over Time', xlabel='Date', ylabel='Sales')
    plt.show()

# Additional insight: average sales per region
avg_sales_region = df.groupby('Region')['Sales'].mean()
print("\nAverage Sales by Region:")
print(avg_sales_region)

# End of analysis
